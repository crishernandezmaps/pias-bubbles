{
 "cells": [
  {
   "cell_type": "code",
   "execution_count": 1,
   "metadata": {},
   "outputs": [],
   "source": [
    "# CSV 2 flare.json\n",
    "# convert a csv file to flare.json for use with many D3.js viz's\n",
    "# This script creates outputs a flare.json file with 2 levels of nesting.\n",
    "# For additional nested layers, add them in lines 32 - 47\n",
    "# sample: http://bl.ocks.org/mbostock/1283663\n",
    "# author: Andrew Heekin\n",
    "# MIT License"
   ]
  },
  {
   "cell_type": "code",
   "execution_count": 2,
   "metadata": {},
   "outputs": [],
   "source": [
    "import pandas as pd\n",
    "import json"
   ]
  },
  {
   "cell_type": "code",
   "execution_count": 3,
   "metadata": {},
   "outputs": [
    {
     "name": "stdout",
     "output_type": "stream",
     "text": [
      "CSV2Flare.ipynb   flare.json        grupos.csv        publicaciones.csv\r\n"
     ]
    }
   ],
   "source": [
    "!ls"
   ]
  },
  {
   "cell_type": "markdown",
   "metadata": {},
   "source": [
    "## Cuantas Publicaciones tiene cada Grupo de Investigacion "
   ]
  },
  {
   "cell_type": "code",
   "execution_count": 4,
   "metadata": {},
   "outputs": [],
   "source": [
    "df_grupos = pd.read_csv('grupos.csv',sep=',')\n",
    "df_publicaciones = pd.read_csv('publicaciones.csv',sep=',')\n",
    "data = pd.merge(df_grupos,df_publicaciones, how='inner', on='id_gi')"
   ]
  },
  {
   "cell_type": "code",
   "execution_count": 5,
   "metadata": {},
   "outputs": [],
   "source": [
    "df = data.loc[:,['codigo_entidad', 'entidad','id_gi','nombre_gi','Publicaciones']]\n",
    "df = df[[\"entidad\", \"nombre_gi\", \"Publicaciones\"]]"
   ]
  },
  {
   "cell_type": "code",
   "execution_count": 6,
   "metadata": {},
   "outputs": [
    {
     "data": {
      "text/html": [
       "<div>\n",
       "<style>\n",
       "    .dataframe thead tr:only-child th {\n",
       "        text-align: right;\n",
       "    }\n",
       "\n",
       "    .dataframe thead th {\n",
       "        text-align: left;\n",
       "    }\n",
       "\n",
       "    .dataframe tbody tr th {\n",
       "        vertical-align: top;\n",
       "    }\n",
       "</style>\n",
       "<table border=\"1\" class=\"dataframe\">\n",
       "  <thead>\n",
       "    <tr style=\"text-align: right;\">\n",
       "      <th></th>\n",
       "      <th>entidad</th>\n",
       "      <th>nombre_gi</th>\n",
       "      <th>Publicaciones</th>\n",
       "      <th>size</th>\n",
       "    </tr>\n",
       "  </thead>\n",
       "  <tbody>\n",
       "    <tr>\n",
       "      <th>0</th>\n",
       "      <td>UNAP</td>\n",
       "      <td>Grupo Alimentos Funcionales y Nutracéuticos</td>\n",
       "      <td>Cheng, D.M.,, Kuhn, P., Poulev, P., Rojo, L.E....</td>\n",
       "      <td>1</td>\n",
       "    </tr>\n",
       "    <tr>\n",
       "      <th>1</th>\n",
       "      <td>UNAP</td>\n",
       "      <td>Grupo Alimentos Funcionales y Nutracéuticos</td>\n",
       "      <td>Gaspar, P.A., Bustamante, M.L., Rojo, L.E. y M...</td>\n",
       "      <td>1</td>\n",
       "    </tr>\n",
       "    <tr>\n",
       "      <th>2</th>\n",
       "      <td>UNAP</td>\n",
       "      <td>Grupo Alimentos Funcionales y Nutracéuticos</td>\n",
       "      <td>Benites, J., Gutierrez, E., López, J., Rojas, ...</td>\n",
       "      <td>1</td>\n",
       "    </tr>\n",
       "  </tbody>\n",
       "</table>\n",
       "</div>"
      ],
      "text/plain": [
       "  entidad                                    nombre_gi  \\\n",
       "0    UNAP  Grupo Alimentos Funcionales y Nutracéuticos   \n",
       "1    UNAP  Grupo Alimentos Funcionales y Nutracéuticos   \n",
       "2    UNAP  Grupo Alimentos Funcionales y Nutracéuticos   \n",
       "\n",
       "                                       Publicaciones  size  \n",
       "0  Cheng, D.M.,, Kuhn, P., Poulev, P., Rojo, L.E....     1  \n",
       "1  Gaspar, P.A., Bustamante, M.L., Rojo, L.E. y M...     1  \n",
       "2  Benites, J., Gutierrez, E., López, J., Rojas, ...     1  "
      ]
     },
     "execution_count": 6,
     "metadata": {},
     "output_type": "execute_result"
    }
   ],
   "source": [
    "def toNumbers(row):\n",
    "    if(len(row) > 0):\n",
    "        return 1\n",
    "\n",
    "df['size'] = df.apply (lambda row: toNumbers(row), axis=1)\n",
    "df.head(3)"
   ]
  },
  {
   "cell_type": "code",
   "execution_count": 7,
   "metadata": {},
   "outputs": [],
   "source": [
    "df1 = df.groupby(['entidad', 'nombre_gi'])['size'].sum()\n",
    "df1 = df1.reset_index()"
   ]
  },
  {
   "cell_type": "code",
   "execution_count": 8,
   "metadata": {},
   "outputs": [],
   "source": [
    "# start a new flare.json document\n",
    "d = dict()\n",
    "d = {\"name\":\"flare\", \"children\": []}\n",
    "\n",
    "for line in df1.values:\n",
    "    the_parent = line[0]\n",
    "    the_child = line[1]\n",
    "    child_size = line[2]\n",
    "\n",
    "    # make a list of keys\n",
    "    keys_list = []\n",
    "    for item in d['children']:\n",
    "        keys_list.append(item['name'])\n",
    "\n",
    "    # if 'the_parent' is NOT a key in the flare.json yet, append it\n",
    "    if not the_parent in keys_list:\n",
    "        d['children'].append({\"name\":the_parent, \"children\":[{\"name\":the_child, \"size\":child_size}]})\n",
    "\n",
    "    # if 'the_parent' IS a key in the flare.json, add a new child to it\n",
    "    else:\n",
    "        d['children'][keys_list.index(the_parent)]['children'].append({\"name\":the_child, \"size\":child_size})\n",
    "\n",
    "\n",
    "# export the final result to a json file\n",
    "with open('flare.json', 'w') as outfile:\n",
    "    json.dump(d, outfile)"
   ]
  },
  {
   "cell_type": "code",
   "execution_count": 9,
   "metadata": {},
   "outputs": [
    {
     "name": "stdout",
     "output_type": "stream",
     "text": [
      "CSV2Flare.ipynb   flare.json        grupos.csv        publicaciones.csv\r\n"
     ]
    }
   ],
   "source": [
    "!ls"
   ]
  }
 ],
 "metadata": {
  "kernelspec": {
   "display_name": "Python 3",
   "language": "python",
   "name": "python3"
  },
  "language_info": {
   "codemirror_mode": {
    "name": "ipython",
    "version": 3
   },
   "file_extension": ".py",
   "mimetype": "text/x-python",
   "name": "python",
   "nbconvert_exporter": "python",
   "pygments_lexer": "ipython3",
   "version": "3.6.2"
  }
 },
 "nbformat": 4,
 "nbformat_minor": 2
}
